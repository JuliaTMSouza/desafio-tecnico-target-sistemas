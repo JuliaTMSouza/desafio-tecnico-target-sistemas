{
 "cells": [
  {
   "cell_type": "markdown",
   "metadata": {},
   "source": [
    "### Questão 1\n"
   ]
  },
  {
   "cell_type": "code",
   "execution_count": 35,
   "metadata": {},
   "outputs": [
    {
     "name": "stdout",
     "output_type": "stream",
     "text": [
      "O valor final de soma é 91\n"
     ]
    }
   ],
   "source": [
    "INDICE = 13\n",
    "SOMA = 0\n",
    "K = 0\n",
    "while K < INDICE:\n",
    "    K += 1\n",
    "    SOMA = SOMA + K\n",
    "print(f\"O valor final de soma é {SOMA}\")\n"
   ]
  },
  {
   "cell_type": "markdown",
   "metadata": {},
   "source": [
    "### Questão 2"
   ]
  },
  {
   "cell_type": "code",
   "execution_count": 36,
   "metadata": {},
   "outputs": [],
   "source": [
    "# Obter o número desejado\n",
    "entrada = input(\"Digite um número inteiro: \")\n",
    "try:\n",
    "    numero_desejado = int(entrada)\n",
    "except ValueError:\n",
    "    print(\"Isso não é um número inteiro válido.\")"
   ]
  },
  {
   "cell_type": "code",
   "execution_count": 37,
   "metadata": {},
   "outputs": [
    {
     "name": "stdout",
     "output_type": "stream",
     "text": [
      "0\n",
      "1\n",
      "1\n",
      "2\n",
      "3\n",
      "5\n",
      "8\n",
      "13\n",
      "21\n",
      "34\n",
      "55\n",
      "89\n",
      "O número 88 não pertence a sequência de Fibonacci!\n"
     ]
    }
   ],
   "source": [
    "# Código para gerar a sequência de Fibonacci\n",
    "valor_fibonacci_atual = 0\n",
    "valor_inicial_0 = 0\n",
    "valor_inical_1 = 1\n",
    "inicio = 1\n",
    "\n",
    "while numero_desejado > valor_fibonacci_atual:\n",
    "    if inicio:\n",
    "        valor_fibonacci_proximo = valor_inicial_0 + valor_inical_1\n",
    "        inicio = 0\n",
    "    else :\n",
    "        valor_fibonacci_anterior = valor_fibonacci_atual\n",
    "        valor_fibonacci_atual = valor_fibonacci_proximo\n",
    "        valor_fibonacci_proximo = valor_fibonacci_anterior + valor_fibonacci_atual\n",
    "    print(valor_fibonacci_atual)\n",
    "    \n",
    "\n",
    "if (numero_desejado == valor_fibonacci_atual) | (numero_desejado == 0):\n",
    "    print(f'O número {numero_desejado} pertence a sequência de Fibonacci!')\n",
    "else:\n",
    "    print(f'O número {numero_desejado} não pertence a sequência de Fibonacci!')"
   ]
  },
  {
   "cell_type": "markdown",
   "metadata": {},
   "source": [
    "### Questão 3"
   ]
  },
  {
   "cell_type": "code",
   "execution_count": 38,
   "metadata": {},
   "outputs": [],
   "source": [
    "import pandas as pd\n",
    "import json"
   ]
  },
  {
   "cell_type": "code",
   "execution_count": 39,
   "metadata": {},
   "outputs": [],
   "source": [
    "# Transformando arquido .json em dicionário para criar dataframe\n",
    "with open('dados.json', 'r') as file:\n",
    "    dict_valores = json.load(file)\n",
    "df_valores = pd.DataFrame().from_dict(dict_valores)"
   ]
  },
  {
   "cell_type": "code",
   "execution_count": 40,
   "metadata": {},
   "outputs": [
    {
     "name": "stdout",
     "output_type": "stream",
     "text": [
      "<class 'pandas.core.frame.DataFrame'>\n",
      "RangeIndex: 30 entries, 0 to 29\n",
      "Data columns (total 2 columns):\n",
      " #   Column  Non-Null Count  Dtype  \n",
      "---  ------  --------------  -----  \n",
      " 0   dia     30 non-null     int64  \n",
      " 1   valor   30 non-null     float64\n",
      "dtypes: float64(1), int64(1)\n",
      "memory usage: 612.0 bytes\n"
     ]
    }
   ],
   "source": [
    "# Verificando dataframe\n",
    "df_valores.info()"
   ]
  },
  {
   "cell_type": "code",
   "execution_count": 41,
   "metadata": {},
   "outputs": [],
   "source": [
    "# Remover valores nulos para encontrar o minimo\n",
    "drop_values = df_valores['valor'] == 0\n",
    "df_valores_sem_zero = df_valores[~drop_values]"
   ]
  },
  {
   "cell_type": "code",
   "execution_count": 42,
   "metadata": {},
   "outputs": [
    {
     "name": "stdout",
     "output_type": "stream",
     "text": [
      "o menor valor de faturamento em um dia foi 373.7838\n"
     ]
    }
   ],
   "source": [
    "# Encontrar valor mínimo\n",
    "valor_minimo = df_valores_sem_zero['valor'].min()\n",
    "print(f'o menor valor de faturamento em um dia foi {valor_minimo}')"
   ]
  },
  {
   "cell_type": "code",
   "execution_count": 43,
   "metadata": {},
   "outputs": [
    {
     "name": "stdout",
     "output_type": "stream",
     "text": [
      "o maior valor de faturamento em um dia foi 48924.2448\n"
     ]
    }
   ],
   "source": [
    "# Encontrar valor máximo\n",
    "valor_maximo = df_valores_sem_zero['valor'].max()\n",
    "print(f'o maior valor de faturamento em um dia foi {valor_maximo}')"
   ]
  },
  {
   "cell_type": "code",
   "execution_count": 44,
   "metadata": {},
   "outputs": [
    {
     "name": "stdout",
     "output_type": "stream",
     "text": [
      "O faturamento foi superior ao da média mensal de 20865.370166666664 em 10 dias no mês\n"
     ]
    }
   ],
   "source": [
    "# Encontrar valores acima da média\n",
    "valor_medio = df_valores_sem_zero['valor'].mean()\n",
    "dias_acima_media = df_valores_sem_zero[df_valores_sem_zero['valor'] > valor_medio].count()\n",
    "print(f'O faturamento foi superior ao da média mensal de {valor_medio} em {dias_acima_media.valor} dias no mês')"
   ]
  },
  {
   "cell_type": "markdown",
   "metadata": {},
   "source": [
    "### Questão 4"
   ]
  },
  {
   "cell_type": "code",
   "execution_count": 45,
   "metadata": {},
   "outputs": [
    {
     "name": "stdout",
     "output_type": "stream",
     "text": [
      "A porcentagem de vendas do SP é igual a 37.53 %\n",
      "A porcentagem de vendas do RJ é igual a 20.29 %\n",
      "A porcentagem de vendas do MG é igual a 16.17 %\n",
      "A porcentagem de vendas do ES é igual a 15.03 %\n",
      "A porcentagem de vendas do Outros é igual a 10.98 %\n"
     ]
    }
   ],
   "source": [
    "dict_faturamento = {\"SP\": 67836.43, \"RJ\": 36678.66, \"MG\": 29229.88, \"ES\": 27165.48, \"Outros\": 19849.53}\n",
    "\n",
    "vendas_totais = sum(dict_faturamento.values())\n",
    "valores_faturamento = list(dict_faturamento.values())\n",
    "chaves_faturamento = list(dict_faturamento.keys())\n",
    "\n",
    "for indice in range(0, len(dict_faturamento)):\n",
    "    porcentagem = 100 * valores_faturamento[indice] / vendas_totais\n",
    "    state = chaves_faturamento[indice]\n",
    "    print('A porcentagem de vendas do {} é igual a {:.2f} %'.format(state,porcentagem))"
   ]
  },
  {
   "cell_type": "markdown",
   "metadata": {},
   "source": [
    "### Questão 5"
   ]
  },
  {
   "cell_type": "code",
   "execution_count": 46,
   "metadata": {},
   "outputs": [],
   "source": [
    "# Obter a string desejada\n",
    "string = input(\"Digite uma string: \")"
   ]
  },
  {
   "cell_type": "code",
   "execution_count": 48,
   "metadata": {},
   "outputs": [
    {
     "name": "stdout",
     "output_type": "stream",
     "text": [
      "String original: Ovelha\n",
      "String revertida: ahlevO\n"
     ]
    }
   ],
   "source": [
    "# Loop para reverter string \n",
    "tamanho_string = len(string)\n",
    "lista_reversa = []\n",
    "for indice in range(0, tamanho_string):\n",
    "    letra = string[tamanho_string - indice - 1]\n",
    "    lista_reversa.append(letra)\n",
    "\n",
    "string_reversa = ''.join(lista_reversa)\n",
    "print(f'String original: {string}')\n",
    "print(f'String revertida: {string_reversa}')"
   ]
  }
 ],
 "metadata": {
  "kernelspec": {
   "display_name": "target-sistemas-yvzKsa4n",
   "language": "python",
   "name": "python3"
  },
  "language_info": {
   "codemirror_mode": {
    "name": "ipython",
    "version": 3
   },
   "file_extension": ".py",
   "mimetype": "text/x-python",
   "name": "python",
   "nbconvert_exporter": "python",
   "pygments_lexer": "ipython3",
   "version": "3.11.5"
  }
 },
 "nbformat": 4,
 "nbformat_minor": 2
}
